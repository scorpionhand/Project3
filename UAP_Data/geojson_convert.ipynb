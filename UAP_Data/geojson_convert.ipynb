{
 "cells": [
  {
   "cell_type": "markdown",
   "metadata": {},
   "source": [
    "# GEOJSON Points\n",
    "\n",
    "    Create Lon Lat points from City, State names\n",
    "    Imports CSV File with city names\n",
    "    Uses geoapify to get lon lat"
   ]
  },
  {
   "cell_type": "code",
   "execution_count": 1,
   "metadata": {},
   "outputs": [],
   "source": [
    "# Dependencies and Setup\n",
    "import pandas as pd\n",
    "import requests as req\n",
    "import time\n",
    "from geojson import Point, Feature, FeatureCollection, dump\n",
    "\n",
    "# Import API key\n",
    "from api_keys import geoapify_key"
   ]
  },
  {
   "cell_type": "code",
   "execution_count": 4,
   "metadata": {},
   "outputs": [],
   "source": [
    "# Globals\n",
    "# Note that the master csv file with all of the entries has been \n",
    "#  segmented into smaller files. Goal is to use geoapify within\n",
    "#  their 3000 requests per day limit on free api keys\n",
    "\n",
    "# The first file to read in - file has blank lon/lat values\n",
    "raw_uap_data = 'working/1/UAP_DATA_1.csv'\n",
    "\n",
    "# The updated lon/lat file results\n",
    "updated_uap_data = 'working/1/uap_data_output_1a.csv'\n",
    "\n",
    "# The City, State, Coutry group used\n",
    "grouped_data_requests = 'working/1/grouped_data_output_1a.csv'\n",
    "\n",
    "# The geojson output\n",
    "geojson_output = 'working/1/uap_data_output_1a.geojson'"
   ]
  },
  {
   "cell_type": "code",
   "execution_count": 6,
   "metadata": {},
   "outputs": [
    {
     "name": "stdout",
     "output_type": "stream",
     "text": [
      "6779\n"
     ]
    },
    {
     "data": {
      "text/html": [
       "<div>\n",
       "<style scoped>\n",
       "    .dataframe tbody tr th:only-of-type {\n",
       "        vertical-align: middle;\n",
       "    }\n",
       "\n",
       "    .dataframe tbody tr th {\n",
       "        vertical-align: top;\n",
       "    }\n",
       "\n",
       "    .dataframe thead th {\n",
       "        text-align: right;\n",
       "    }\n",
       "</style>\n",
       "<table border=\"1\" class=\"dataframe\">\n",
       "  <thead>\n",
       "    <tr style=\"text-align: right;\">\n",
       "      <th></th>\n",
       "      <th>Occurred</th>\n",
       "      <th>Lon</th>\n",
       "      <th>Lat</th>\n",
       "      <th>City</th>\n",
       "      <th>State</th>\n",
       "      <th>Country</th>\n",
       "      <th>Shape</th>\n",
       "      <th>Summary</th>\n",
       "      <th>Media</th>\n",
       "      <th>Explanation</th>\n",
       "    </tr>\n",
       "  </thead>\n",
       "  <tbody>\n",
       "    <tr>\n",
       "      <th>20636</th>\n",
       "      <td>10/8/2008</td>\n",
       "      <td>NaN</td>\n",
       "      <td>NaN</td>\n",
       "      <td>Ukiah</td>\n",
       "      <td>CA</td>\n",
       "      <td>USA</td>\n",
       "      <td>Light</td>\n",
       "      <td>\"Bright-Star or Something Else\"! ((NUFORC Note...</td>\n",
       "      <td>NaN</td>\n",
       "      <td>NaN</td>\n",
       "    </tr>\n",
       "  </tbody>\n",
       "</table>\n",
       "</div>"
      ],
      "text/plain": [
       "        Occurred  Lon  Lat   City State Country  Shape  \\\n",
       "20636  10/8/2008  NaN  NaN  Ukiah    CA     USA  Light   \n",
       "\n",
       "                                                 Summary Media Explanation  \n",
       "20636  \"Bright-Star or Something Else\"! ((NUFORC Note...   NaN         NaN  "
      ]
     },
     "execution_count": 6,
     "metadata": {},
     "output_type": "execute_result"
    }
   ],
   "source": [
    "# Load the UAP CSV file into a Pandas DataFrame\n",
    "uap_data_df = pd.read_csv(raw_uap_data)\n",
    "\n",
    "# Group city, state, country to limit geoapify queries\n",
    "cities = uap_data_df.groupby(['City','State','Country']).sum().reset_index()\n",
    "\n",
    "# Save queries into a list\n",
    "geoapify_queries = []\n",
    "geoapify_query = 'https://api.geoapify.com/v1/geocode/search?text='\n",
    "for colname, data in cities.iterrows():\n",
    "    city = data.iloc[0]\n",
    "    State = data.iloc[1]\n",
    "    Country = data.iloc[2]\n",
    "    geoapify_queries.append(geoapify_query + \n",
    "                            city + ',' + \n",
    "                            State + ',' + \n",
    "                            Country + '&format=json&apiKey=' + geoapify_key)\n",
    "\n",
    "print(len(cities))\n",
    "uap_data_df.sample()"
   ]
  },
  {
   "cell_type": "code",
   "execution_count": 7,
   "metadata": {},
   "outputs": [
    {
     "name": "stdout",
     "output_type": "stream",
     "text": [
      "Ridgeville\n",
      "Ridgway\n",
      "Riley\n",
      "Lebanon Township\n",
      "Rimrock\n",
      "Ringold\n",
      "Rio\n",
      "Río Piedras\n",
      "Río Piedras\n",
      "Rio Rancho\n",
      "River Falls\n",
      "Prescott\n",
      "River Pines\n",
      "River Pines\n",
      "Norco\n",
      "Riverwoods\n",
      "Riviera Beach\n",
      "Roachdale\n",
      "Roaring River\n",
      "Robbinsville Township\n",
      "Roberts\n",
      "Wood Township\n",
      "Robstown\n",
      "Rocheport\n",
      "Rochester\n",
      "Rochester\n",
      "Rocky River\n",
      "New York\n",
      "Rockdale\n",
      "Rock Hill\n",
      "Rockingham\n",
      "Rockingham\n",
      "Rockland\n",
      "Rockledge\n",
      "Roseville\n",
      "Rockvale\n",
      "Rockwood Strip T1 R1 NBKP\n"
     ]
    }
   ],
   "source": [
    "# limit the for loop as a safety measure\n",
    "loop_counter = 0\n",
    "loop_start_at = 0\n",
    "loop_end_at = 6780\n",
    "\n",
    "# Finding the lat lon for the city locations\n",
    "# Adding / updating lat lon in the uap dataframe\n",
    "for geo in geoapify_queries:\n",
    "\n",
    "    try:\n",
    "        if loop_start_at <= loop_counter <= loop_end_at:  \n",
    "            # req geoapify\n",
    "            city_json = req.get(geo).json()\n",
    "\n",
    "            lon = city_json['results'][0]['lon']\n",
    "            lat = city_json['results'][0]['lat']\n",
    "            city_name = city_json['results'][0]['city']\n",
    "            state_abbr = city_json['results'][0]['state_code']\n",
    "\n",
    "            # add lon lat to dataframe\n",
    "            uap_data_df.loc[(uap_data_df['City'] == city_name) & (uap_data_df['State'] == state_abbr), 'Lon'] = lon\n",
    "            uap_data_df.loc[(uap_data_df['City'] == city_name) & (uap_data_df['State'] == state_abbr), 'Lat'] = lat\n",
    "            \n",
    "    except:\n",
    "        print(city_name)\n",
    "    \n",
    "    if loop_counter == loop_end_at:\n",
    "        break\n",
    "    loop_counter += 1\n",
    "\n",
    "    time.sleep(.5)\n",
    "\n",
    "uap_data_df.sample()"
   ]
  },
  {
   "cell_type": "code",
   "execution_count": 14,
   "metadata": {},
   "outputs": [],
   "source": [
    "# Save the data to a csv file\n",
    "uap_data_df.to_csv(updated_uap_data, index=None)"
   ]
  },
  {
   "cell_type": "code",
   "execution_count": 15,
   "metadata": {},
   "outputs": [],
   "source": [
    "# save the cities group\n",
    "cities.to_csv(grouped_data_requests, index=None)"
   ]
  },
  {
   "cell_type": "code",
   "execution_count": 19,
   "metadata": {},
   "outputs": [],
   "source": [
    "# may want to check the csv file for completeness before running this\n",
    "# Load the UAP CSV file into a Pandas DataFrame\n",
    "uap_data_df = pd.read_csv(updated_uap_data)\n",
    "\n",
    "# Output the geojson data\n",
    "feature_collections = {}\n",
    "\n",
    "count = len(uap_data_df)\n",
    "features = []\n",
    "for i in range(count):\n",
    "    testout = uap_data_df.iloc[i]\n",
    "    point = Point((testout.loc[('Lon')], testout.loc[('Lat')]))\n",
    "\n",
    "    features.append(Feature(geometry=point, \n",
    "                            properties={\n",
    "                                \"Occurred\": testout.loc[('Occurred')],\n",
    "                                \"City\": testout.loc[('City')],\n",
    "                                \"State\": testout.loc[('State')],\n",
    "                                \"Country\": testout.loc[('Country')],\n",
    "                                \"Shape\": testout.loc[('Shape')],\n",
    "                                \"Summary\": testout.loc[('Summary')]\n",
    "                                }))\n",
    "\n",
    "feature_collection = FeatureCollection(features)\n",
    "\n",
    "\n",
    "with open(geojson_output, 'w') as f:\n",
    "    dump(feature_collection, f)\n"
   ]
  }
 ],
 "metadata": {
  "kernelspec": {
   "display_name": "Python 3 (ipykernel)",
   "language": "python",
   "name": "python3"
  },
  "language_info": {
   "codemirror_mode": {
    "name": "ipython",
    "version": 3
   },
   "file_extension": ".py",
   "mimetype": "text/x-python",
   "name": "python",
   "nbconvert_exporter": "python",
   "pygments_lexer": "ipython3",
   "version": "3.10.14"
  },
  "latex_envs": {
   "LaTeX_envs_menu_present": true,
   "autoclose": false,
   "autocomplete": true,
   "bibliofile": "biblio.bib",
   "cite_by": "apalike",
   "current_citInitial": 1,
   "eqLabelWithNumbers": true,
   "eqNumInitial": 1,
   "hotkeys": {
    "equation": "Ctrl-E",
    "itemize": "Ctrl-I"
   },
   "labels_anchors": false,
   "latex_user_defs": false,
   "report_style_numbering": false,
   "user_envs_cfg": false
  }
 },
 "nbformat": 4,
 "nbformat_minor": 4
}
